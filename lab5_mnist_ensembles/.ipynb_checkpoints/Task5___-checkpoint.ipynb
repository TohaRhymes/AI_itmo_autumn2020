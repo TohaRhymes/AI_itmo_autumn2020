{
 "cells": [
  {
   "cell_type": "code",
   "execution_count": null,
   "metadata": {
    "colab": {
     "base_uri": "https://localhost:8080/"
    },
    "id": "VLvtqJvWcfxH",
    "outputId": "ea1139c8-bc36-43cb-bc69-24fa0a7e819b"
   },
   "outputs": [
    {
     "name": "stdout",
     "output_type": "stream",
     "text": [
      "Requirement already satisfied: pip in /usr/local/lib/python3.6/dist-packages (20.3.3)\n",
      "Requirement already satisfied: scikit-learn==0.23.0 in /usr/local/lib/python3.6/dist-packages (0.23.0)\n",
      "Requirement already satisfied: threadpoolctl>=2.0.0 in /usr/local/lib/python3.6/dist-packages (from scikit-learn==0.23.0) (2.1.0)\n",
      "Requirement already satisfied: scipy>=0.19.1 in /usr/local/lib/python3.6/dist-packages (from scikit-learn==0.23.0) (1.4.1)\n",
      "Requirement already satisfied: joblib>=0.11 in /usr/local/lib/python3.6/dist-packages (from scikit-learn==0.23.0) (0.17.0)\n",
      "Requirement already satisfied: numpy>=1.13.3 in /usr/local/lib/python3.6/dist-packages (from scikit-learn==0.23.0) (1.18.5)\n"
     ]
    }
   ],
   "source": [
    "!pip install --upgrade pip\n",
    "!pip install --upgrade scikit-learn==0.23.0"
   ]
  },
  {
   "cell_type": "code",
   "execution_count": null,
   "metadata": {
    "id": "dGggNAlacfxL"
   },
   "outputs": [],
   "source": [
    "import numpy as np\n",
    "import matplotlib\n",
    "import matplotlib.pyplot as plt\n",
    "%matplotlib inline"
   ]
  },
  {
   "cell_type": "markdown",
   "metadata": {
    "id": "7vNl-XNLcfxO"
   },
   "source": [
    "MNIST - датасет образцов рукописного написания цифр, является стандартом, предложенным Национальным институтом стандартов и технологий США с целью калибрации и сопоставления методов распознавания изображений с помощью машинного обучения. Образцы из набора NIST были нормализированы, прошли сглаживание и приведены к серому полутоновому изображению размером 28x28 пикселей. "
   ]
  },
  {
   "cell_type": "code",
   "execution_count": null,
   "metadata": {
    "id": "mBlYMVO5cfxQ"
   },
   "outputs": [],
   "source": [
    "from keras.datasets import mnist\n",
    "(X_train, y_train), (X_pred, y_pred) = mnist.load_data()"
   ]
  },
  {
   "cell_type": "markdown",
   "metadata": {
    "id": "qRhYY_BfcfxR"
   },
   "source": [
    "Первый элемент"
   ]
  },
  {
   "cell_type": "code",
   "execution_count": null,
   "metadata": {
    "colab": {
     "base_uri": "https://localhost:8080/",
     "height": 299
    },
    "id": "o4B6rW0mcfxR",
    "outputId": "897b46ad-8294-4bcf-fb0a-c31ae36ca480"
   },
   "outputs": [
    {
     "data": {
      "text/plain": [
       "<matplotlib.image.AxesImage at 0x7fcb49131cf8>"
      ]
     },
     "execution_count": 4,
     "metadata": {
      "tags": []
     },
     "output_type": "execute_result"
    },
    {
     "data": {
      "image/png": "[encoded data removed]",
      "text/plain": [
       "<Figure size 432x288 with 1 Axes>"
      ]
     },
     "metadata": {
      "needs_background": "light",
      "tags": []
     },
     "output_type": "display_data"
    }
   ],
   "source": [
    "plt.title(\"Нулевой объект из тренировочного набора:\")\n",
    "plt.imshow(X_train[0], cmap=\"gray\")"
   ]
  },
  {
   "cell_type": "markdown",
   "metadata": {
    "id": "gr5IxUnMcfxS"
   },
   "source": [
    "И его отклик"
   ]
  },
  {
   "cell_type": "code",
   "execution_count": null,
   "metadata": {
    "colab": {
     "base_uri": "https://localhost:8080/"
    },
    "id": "CwwpOm9XcfxS",
    "outputId": "8c977c23-1d29-4cca-86e6-daa8f816e213"
   },
   "outputs": [
    {
     "data": {
      "text/plain": [
       "5"
      ]
     },
     "execution_count": 5,
     "metadata": {
      "tags": []
     },
     "output_type": "execute_result"
    }
   ],
   "source": [
    "y_train[0]"
   ]
  },
  {
   "cell_type": "markdown",
   "metadata": {
    "id": "9vIJs4j_cfxV"
   },
   "source": [
    "Преобразуем данные"
   ]
  },
  {
   "cell_type": "code",
   "execution_count": null,
   "metadata": {
    "id": "h7I3NKsucfxW"
   },
   "outputs": [],
   "source": [
    "dim = 784 # 28*28 \n",
    "X_train = X_train.reshape(len(X_train), dim)"
   ]
  },
  {
   "cell_type": "markdown",
   "metadata": {
    "id": "LAzeQU21cfxW"
   },
   "source": [
    "Уменьшим размерность тестовых данных"
   ]
  },
  {
   "cell_type": "code",
   "execution_count": null,
   "metadata": {
    "id": "HiQzdLiwcfxX"
   },
   "outputs": [],
   "source": [
    "from sklearn.decomposition import PCA\n",
    "\n",
    "pca = PCA(svd_solver='full')\n",
    "modelPCA = pca.fit(X_train)"
   ]
  },
  {
   "cell_type": "markdown",
   "metadata": {
    "id": "vNFbVJ3bcfxY"
   },
   "source": [
    "Найдем долю объясненной дисперсии в зависимости от количества используемых ГК"
   ]
  },
  {
   "cell_type": "code",
   "execution_count": null,
   "metadata": {
    "id": "Nkvhz62qcfxZ"
   },
   "outputs": [],
   "source": [
    "explained_variance = np.cumsum(pca.explained_variance_ratio_)"
   ]
  },
  {
   "cell_type": "code",
   "execution_count": null,
   "metadata": {
    "colab": {
     "base_uri": "https://localhost:8080/",
     "height": 283
    },
    "id": "ZZJgUS54hUOn",
    "outputId": "80c0c974-dc7a-45cd-fb93-777bc6b7225f"
   },
   "outputs": [
    {
     "data": {
      "text/plain": [
       "[<matplotlib.lines.Line2D at 0x7fcb3c916470>]"
      ]
     },
     "execution_count": 9,
     "metadata": {
      "tags": []
     },
     "output_type": "execute_result"
    },
    {
     "data": {
      "image/png": "[encoded data removed]",
      "text/plain": [
       "<Figure size 432x288 with 1 Axes>"
      ]
     },
     "metadata": {
      "needs_background": "light",
      "tags": []
     },
     "output_type": "display_data"
    }
   ],
   "source": [
    "plt.plot(np.arange(len(explained_variance)), explained_variance, ls = '-')"
   ]
  },
  {
   "cell_type": "markdown",
   "metadata": {
    "id": "VMD1oOjdehZn"
   },
   "source": [
    "Уменьшим размерность данных так, чтобы доля объяснённой дисперсии превышала 0.84"
   ]
  },
  {
   "cell_type": "code",
   "execution_count": null,
   "metadata": {
    "colab": {
     "base_uri": "https://localhost:8080/"
    },
    "id": "ZVoAgu_GefZP",
    "outputId": "be8ad26c-6c0d-4b4d-f5df-833f6ee6a6d3"
   },
   "outputs": [
    {
     "name": "stdout",
     "output_type": "stream",
     "text": [
      "Необходимое количество компонент - 55\n"
     ]
    }
   ],
   "source": [
    "\n",
    "for n_components, ev in enumerate(explained_variance):\n",
    "    if ev > 0.84:\n",
    "        break\n",
    "\n",
    "pca = PCA(n_components=n_components, svd_solver='full')\n",
    "modelPCA = pca.fit(X_train) \n",
    "\n",
    "explained_variance = np.cumsum(pca.explained_variance_ratio_)\n",
    "X_train = modelPCA.transform(X_train)\n",
    "\n",
    "print(f'Необходимое количество компонент - {n_components}')\n"
   ]
  },
  {
   "cell_type": "code",
   "execution_count": null,
   "metadata": {
    "colab": {
     "base_uri": "https://localhost:8080/",
     "height": 283
    },
    "id": "kWLhjJp3cfxa",
    "outputId": "1eec283d-8d92-4fa6-c3c8-165d48e70f8e"
   },
   "outputs": [
    {
     "data": {
      "text/plain": [
       "[<matplotlib.lines.Line2D at 0x7fcb3c907c18>]"
      ]
     },
     "execution_count": 11,
     "metadata": {
      "tags": []
     },
     "output_type": "execute_result"
    },
    {
     "data": {
      "image/png": "[encoded data removed]",
      "text/plain": [
       "<Figure size 432x288 with 1 Axes>"
      ]
     },
     "metadata": {
      "needs_background": "light",
      "tags": []
     },
     "output_type": "display_data"
    }
   ],
   "source": [
    "plt.plot(np.arange(len(explained_variance)), explained_variance, ls = '-')"
   ]
  },
  {
   "cell_type": "markdown",
   "metadata": {
    "id": "CUnX8BSacfxU"
   },
   "source": [
    "Для разделения данных используем функцию train_test_split из библиотеки sklearn. Следующий код разделяет исходные данные в отношении 70/30."
   ]
  },
  {
   "cell_type": "code",
   "execution_count": null,
   "metadata": {
    "id": "UwGrr2RRcfxU"
   },
   "outputs": [],
   "source": [
    "from sklearn.model_selection import train_test_split\n",
    "\n",
    "X_train, X_test, y_train, y_test = train_test_split(X_train, y_train, test_size=0.3, random_state=2020)\n"
   ]
  },
  {
   "cell_type": "markdown",
   "metadata": {
    "id": "2Sxb3xAdcfxb"
   },
   "source": [
    "Подключаем библиотеку для обучения многоклассового классификатора методом One-vs-All и дерево принятия решений"
   ]
  },
  {
   "cell_type": "code",
   "execution_count": null,
   "metadata": {
    "id": "-aJ40frFcfxc"
   },
   "outputs": [],
   "source": [
    "from sklearn.multiclass import OneVsRestClassifier\n",
    "from sklearn.tree import DecisionTreeClassifier\n",
    "from sklearn.ensemble import RandomForestClassifier"
   ]
  },
  {
   "cell_type": "code",
   "execution_count": null,
   "metadata": {
    "id": "036g4Uagcfxc"
   },
   "outputs": [],
   "source": [
    "tree = RandomForestClassifier(criterion='gini', min_samples_leaf=10, max_depth=20, n_estimators=10, random_state=2020)\n",
    "clf = OneVsRestClassifier(tree).fit(X_train, y_train)"
   ]
  },
  {
   "cell_type": "markdown",
   "metadata": {
    "id": "oGr5AsBxcfxd"
   },
   "source": [
    "Примените полученное ранее преобразование метода главных компонент к тестовым данным"
   ]
  },
  {
   "cell_type": "code",
   "execution_count": null,
   "metadata": {
    "colab": {
     "base_uri": "https://localhost:8080/"
    },
    "id": "ltiQ5q96cfxu",
    "outputId": "180c07e7-9983-4e07-b004-e1b921be204d"
   },
   "outputs": [
    {
     "data": {
      "text/plain": [
       "55"
      ]
     },
     "execution_count": 15,
     "metadata": {
      "tags": []
     },
     "output_type": "execute_result"
    }
   ],
   "source": [
    "len(X_test[0])"
   ]
  },
  {
   "cell_type": "code",
   "execution_count": null,
   "metadata": {
    "id": "LoXMTE3icfxv"
   },
   "outputs": [],
   "source": [
    "modelPCA = pca.fit(X_test) \n",
    "X_test = modelPCA.transform(X_test)"
   ]
  },
  {
   "cell_type": "code",
   "execution_count": null,
   "metadata": {
    "id": "lOioadihcfxv"
   },
   "outputs": [],
   "source": [
    "y_pred = clf.predict(X_test)"
   ]
  },
  {
   "cell_type": "code",
   "execution_count": null,
   "metadata": {
    "id": "Hfzpb1i-cfxw"
   },
   "outputs": [],
   "source": [
    "from sklearn.metrics import confusion_matrix\n",
    "CM = confusion_matrix(y_test, y_pred)"
   ]
  },
  {
   "cell_type": "code",
   "execution_count": null,
   "metadata": {
    "colab": {
     "base_uri": "https://localhost:8080/"
    },
    "id": "1CiO-evMcfxw",
    "outputId": "0e7c871f-e627-4ccd-a84b-2607c5abf2d9"
   },
   "outputs": [
    {
     "data": {
      "text/plain": [
       "array([[1363,    0,  105,   33,    9,   49,   24,   19,   90,    1],\n",
       "       [  10, 1666,   57,   60,   24,    7,  136,   74,   23,   18],\n",
       "       [  73,   13,  884,   81,   66,   95,  429,   19,   80,   23],\n",
       "       [  32,   11,   71, 1469,   23,  102,   11,   27,  103,   24],\n",
       "       [  14,   16,   72,    8, 1244,   36,   74,   34,   76,  182],\n",
       "       [ 150,    5,  163,  302,   92,  491,   12,   47,  295,   34],\n",
       "       [  34,   25,  949,   16,   17,   46,  442,   53,  113,   71],\n",
       "       [  56,   49,   19,   18,   55,   42,   68, 1409,   47,  123],\n",
       "       [  74,   29,  139,  248,   69,  404,   29,   25,  643,  113],\n",
       "       [  18,   26,   28,   73,  407,   67,   56,  207,  174,  768]])"
      ]
     },
     "execution_count": 19,
     "metadata": {
      "tags": []
     },
     "output_type": "execute_result"
    }
   ],
   "source": [
    "CM"
   ]
  },
  {
   "cell_type": "markdown",
   "metadata": {
    "id": "cm2SBBPkcfxx"
   },
   "source": [
    "Число верно классифицирвоанных объектов класс 4"
   ]
  },
  {
   "cell_type": "code",
   "execution_count": null,
   "metadata": {
    "colab": {
     "base_uri": "https://localhost:8080/"
    },
    "id": "3ORX3XQAcfxx",
    "outputId": "0369360f-46e3-461c-d33e-287ea8fb24d8"
   },
   "outputs": [
    {
     "data": {
      "text/plain": [
       "1244"
      ]
     },
     "execution_count": 20,
     "metadata": {
      "tags": []
     },
     "output_type": "execute_result"
    }
   ],
   "source": [
    "CM[4][4]"
   ]
  },
  {
   "cell_type": "markdown",
   "metadata": {
    "id": "Y8C1gemTcfxy"
   },
   "source": [
    "Вероятность отнесения 5 изображений к назначенным классам:"
   ]
  },
  {
   "cell_type": "code",
   "execution_count": null,
   "metadata": {
    "colab": {
     "base_uri": "https://localhost:8080/",
     "height": 204
    },
    "id": "sHkHfJIOcfxy",
    "outputId": "a677fc68-3f92-4373-8119-fd6303877299"
   },
   "outputs": [
    {
     "data": {
      "text/html": [
       "<div>\n",
       "<style scoped>\n",
       "    .dataframe tbody tr th:only-of-type {\n",
       "        vertical-align: middle;\n",
       "    }\n",
       "\n",
       "    .dataframe tbody tr th {\n",
       "        vertical-align: top;\n",
       "    }\n",
       "\n",
       "    .dataframe thead th {\n",
       "        text-align: right;\n",
       "    }\n",
       "</style>\n",
       "<table border=\"1\" class=\"dataframe\">\n",
       "  <thead>\n",
       "    <tr style=\"text-align: right;\">\n",
       "      <th></th>\n",
       "      <th>class</th>\n",
       "      <th>proba</th>\n",
       "    </tr>\n",
       "  </thead>\n",
       "  <tbody>\n",
       "    <tr>\n",
       "      <th>15430</th>\n",
       "      <td>8</td>\n",
       "      <td>0.340815</td>\n",
       "    </tr>\n",
       "    <tr>\n",
       "      <th>11782</th>\n",
       "      <td>6</td>\n",
       "      <td>0.564546</td>\n",
       "    </tr>\n",
       "    <tr>\n",
       "      <th>558</th>\n",
       "      <td>7</td>\n",
       "      <td>0.348311</td>\n",
       "    </tr>\n",
       "    <tr>\n",
       "      <th>8882</th>\n",
       "      <td>5</td>\n",
       "      <td>0.432416</td>\n",
       "    </tr>\n",
       "    <tr>\n",
       "      <th>341</th>\n",
       "      <td>3</td>\n",
       "      <td>0.321014</td>\n",
       "    </tr>\n",
       "  </tbody>\n",
       "</table>\n",
       "</div>"
      ],
      "text/plain": [
       "       class     proba\n",
       "15430      8  0.340815\n",
       "11782      6  0.564546\n",
       "558        7  0.348311\n",
       "8882       5  0.432416\n",
       "341        3  0.321014"
      ]
     },
     "execution_count": 21,
     "metadata": {
      "tags": []
     },
     "output_type": "execute_result"
    }
   ],
   "source": [
    "\n",
    "from random import randint, seed\n",
    "import pandas as pd\n",
    "\n",
    "imgs = set()\n",
    "while len(imgs) < 5:\n",
    "    imgs.add(randint(0, len(X_test)))\n",
    "\n",
    "imgs = list(imgs)\n",
    "\n",
    "imgs_probas = clf.predict_proba(X_test[list(imgs)]).tolist()\n",
    "for i, probas in enumerate(imgs_probas):\n",
    "    imgs_probas[i] = [y_pred[imgs[i]], probas[y_pred[imgs[i]]]]\n",
    "\n",
    "pd.DataFrame(imgs_probas, imgs, ['class', 'proba'])"
   ]
  },
  {
   "cell_type": "markdown",
   "metadata": {
    "id": "4GiEAx-Yr05R"
   },
   "source": [
    "Accuracy, Precision, Recall и F1\n",
    "\n",
    "- Accuracy - true / all\n",
    "- Precision - true positive / positive \n",
    "- Recall - true positive / true\n",
    "- F1 - среднее гармоническое Precision и Recall\n"
   ]
  },
  {
   "cell_type": "code",
   "execution_count": null,
   "metadata": {
    "colab": {
     "base_uri": "https://localhost:8080/",
     "height": 377
    },
    "id": "6gpewSbar0Rj",
    "outputId": "52d35876-3c0c-4a56-ccd6-f5e84cd8bc4a"
   },
   "outputs": [
    {
     "name": "stdout",
     "output_type": "stream",
     "text": [
      "Accuracy: 0.5766111111111111\n"
     ]
    },
    {
     "data": {
      "text/html": [
       "<div>\n",
       "<style scoped>\n",
       "    .dataframe tbody tr th:only-of-type {\n",
       "        vertical-align: middle;\n",
       "    }\n",
       "\n",
       "    .dataframe tbody tr th {\n",
       "        vertical-align: top;\n",
       "    }\n",
       "\n",
       "    .dataframe thead th {\n",
       "        text-align: right;\n",
       "    }\n",
       "</style>\n",
       "<table border=\"1\" class=\"dataframe\">\n",
       "  <thead>\n",
       "    <tr style=\"text-align: right;\">\n",
       "      <th></th>\n",
       "      <th>Precision</th>\n",
       "      <th>Recall</th>\n",
       "      <th>F1</th>\n",
       "    </tr>\n",
       "  </thead>\n",
       "  <tbody>\n",
       "    <tr>\n",
       "      <th>0</th>\n",
       "      <td>0.747259</td>\n",
       "      <td>0.805080</td>\n",
       "      <td>0.775092</td>\n",
       "    </tr>\n",
       "    <tr>\n",
       "      <th>1</th>\n",
       "      <td>0.905435</td>\n",
       "      <td>0.802892</td>\n",
       "      <td>0.851086</td>\n",
       "    </tr>\n",
       "    <tr>\n",
       "      <th>2</th>\n",
       "      <td>0.355448</td>\n",
       "      <td>0.501418</td>\n",
       "      <td>0.416000</td>\n",
       "    </tr>\n",
       "    <tr>\n",
       "      <th>3</th>\n",
       "      <td>0.636482</td>\n",
       "      <td>0.784303</td>\n",
       "      <td>0.702703</td>\n",
       "    </tr>\n",
       "    <tr>\n",
       "      <th>4</th>\n",
       "      <td>0.620140</td>\n",
       "      <td>0.708428</td>\n",
       "      <td>0.661350</td>\n",
       "    </tr>\n",
       "    <tr>\n",
       "      <th>5</th>\n",
       "      <td>0.366692</td>\n",
       "      <td>0.308611</td>\n",
       "      <td>0.335154</td>\n",
       "    </tr>\n",
       "    <tr>\n",
       "      <th>6</th>\n",
       "      <td>0.345043</td>\n",
       "      <td>0.250283</td>\n",
       "      <td>0.290121</td>\n",
       "    </tr>\n",
       "    <tr>\n",
       "      <th>7</th>\n",
       "      <td>0.736155</td>\n",
       "      <td>0.747084</td>\n",
       "      <td>0.741579</td>\n",
       "    </tr>\n",
       "    <tr>\n",
       "      <th>8</th>\n",
       "      <td>0.391119</td>\n",
       "      <td>0.362662</td>\n",
       "      <td>0.376354</td>\n",
       "    </tr>\n",
       "    <tr>\n",
       "      <th>9</th>\n",
       "      <td>0.565954</td>\n",
       "      <td>0.421053</td>\n",
       "      <td>0.482867</td>\n",
       "    </tr>\n",
       "  </tbody>\n",
       "</table>\n",
       "</div>"
      ],
      "text/plain": [
       "   Precision    Recall        F1\n",
       "0   0.747259  0.805080  0.775092\n",
       "1   0.905435  0.802892  0.851086\n",
       "2   0.355448  0.501418  0.416000\n",
       "3   0.636482  0.784303  0.702703\n",
       "4   0.620140  0.708428  0.661350\n",
       "5   0.366692  0.308611  0.335154\n",
       "6   0.345043  0.250283  0.290121\n",
       "7   0.736155  0.747084  0.741579\n",
       "8   0.391119  0.362662  0.376354\n",
       "9   0.565954  0.421053  0.482867"
      ]
     },
     "execution_count": 22,
     "metadata": {
      "tags": []
     },
     "output_type": "execute_result"
    }
   ],
   "source": [
    "from sklearn.metrics import accuracy_score, precision_score, recall_score, f1_score\n",
    "\n",
    "print(f'Accuracy: {accuracy_score(y_test, y_pred)}')\n",
    "\n",
    "scores = {\n",
    "    'Precision': precision_score(y_test, y_pred, average=None),\n",
    "    'Recall': recall_score(y_test, y_pred, average=None),\n",
    "    'F1': f1_score(y_test, y_pred, average=None)\n",
    "}\n",
    "\n",
    "pd.DataFrame(scores)"
   ]
  }
 ],
 "metadata": {
  "colab": {
   "collapsed_sections": [],
   "name": "Task5.ipynb",
   "provenance": []
  },
  "kernelspec": {
   "display_name": "Python 3",
   "language": "python",
   "name": "python3"
  },
  "language_info": {
   "codemirror_mode": {
    "name": "ipython",
    "version": 3
   },
   "file_extension": ".py",
   "mimetype": "text/x-python",
   "name": "python",
   "nbconvert_exporter": "python",
   "pygments_lexer": "ipython3",
   "version": "3.7.7"
  }
 },
 "nbformat": 4,
 "nbformat_minor": 1
}
