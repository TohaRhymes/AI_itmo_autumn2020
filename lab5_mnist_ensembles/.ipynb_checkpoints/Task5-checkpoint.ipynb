{
 "cells": [
  {
   "cell_type": "markdown",
   "metadata": {},
   "source": [
    "## 5 лабораторная работа. Системы ИИ\n",
    "\n",
    "__Чангалиди Антон__\n",
    "\n",
    "_Вариант 18_"
   ]
  },
  {
   "cell_type": "markdown",
   "metadata": {},
   "source": [
    "__Цель__: решить задачу многоклассовой классификации, используя в качестве тренировочного набора данных - набор данных MNIST, содержащий образы рукописных цифр.\n",
    "\n",
    "1. Используйте метод главных компонент для набора данных MNIST (train dataset объема 60000). Определите, какое минимальное количество главных компонент необходимо использовать, чтобы доля объясненной дисперсии превышала 0.80+номер\\_в\\_списке%10 = 0.88 . Построить график зависимости доли объясненной дисперсии от количества используемых ГК\n",
    "2. Введите количество верно классифицированных объектов класса номер_в_списке%9 = 18%9 = 0 для тестовых данных.\n",
    "3. Введите вероятность отнесения 5 любых изображений из тестового набора к назначенному классу.\n",
    "4. Определите Accuracy, Precision, Recall or F1 для обученной модели.\n",
    "5. Сделайте вывод про обученную модель."
   ]
  },
  {
   "cell_type": "code",
   "execution_count": 1,
   "metadata": {
    "scrolled": true
   },
   "outputs": [],
   "source": [
    "# Это можно сделать, но я не буду, так как у меня установлено все и более новой версии\n",
    "# !pip install --upgrade pip\n",
    "# !pip install --upgrade scikit-learn==0.23.0\n",
    "# !pip install keras\n",
    "# !pip install tensorflow"
   ]
  },
  {
   "cell_type": "code",
   "execution_count": 2,
   "metadata": {},
   "outputs": [],
   "source": [
    "import random\n",
    "\n",
    "import numpy as np\n",
    "import pandas as pd\n",
    "import matplotlib\n",
    "import matplotlib.pyplot as plt\n",
    "\n",
    "from keras.datasets import mnist\n",
    "\n",
    "from sklearn.model_selection import train_test_split\n",
    "\n",
    "from sklearn.decomposition import PCA\n",
    "from sklearn.multiclass import OneVsRestClassifier\n",
    "from sklearn.tree import DecisionTreeClassifier\n",
    "from sklearn.ensemble import RandomForestClassifier\n",
    "\n",
    "\n",
    "from sklearn.metrics import accuracy_score, precision_score, recall_score, f1_score\n",
    "from sklearn.metrics import confusion_matrix\n",
    "\n",
    "\n",
    "%matplotlib inline"
   ]
  },
  {
   "cell_type": "markdown",
   "metadata": {},
   "source": [
    "MNIST - датасет образцов рукописного написания цифр, является стандартом, предложенным Национальным институтом стандартов и технологий США с целью калибрации и сопоставления методов распознавания изображений с помощью машинного обучения. Образцы из набора NIST были нормализированы, прошли сглаживание и приведены к серому полутоновому изображению размером 28x28 пикселей. "
   ]
  },
  {
   "cell_type": "code",
   "execution_count": 3,
   "metadata": {},
   "outputs": [
    {
     "data": {
      "text/plain": [
       "<matplotlib.image.AxesImage at 0x7f03ce341710>"
      ]
     },
     "execution_count": 3,
     "metadata": {},
     "output_type": "execute_result"
    },
    {
     "data": {
      "image/png": "[encoded data removed]",
      "text/plain": [
       "<Figure size 432x288 with 1 Axes>"
      ]
     },
     "metadata": {
      "needs_background": "light"
     },
     "output_type": "display_data"
    }
   ],
   "source": [
    "(X_train, y_train), (X_test, y_test) = mnist.load_data()\n",
    "\n",
    "# and check:\n",
    "plt.title(f\"Нулевой объект из тренировочного набора (с откликом = {y_train[0]}):\")\n",
    "plt.imshow(X_train[0], cmap=\"gray\")"
   ]
  },
  {
   "cell_type": "markdown",
   "metadata": {},
   "source": [
    "### Подготовка данных"
   ]
  },
  {
   "cell_type": "code",
   "execution_count": 4,
   "metadata": {},
   "outputs": [],
   "source": [
    "# split\n",
    "X_train, X_test, y_train, y_test = train_test_split(X_train, y_train, test_size=0.3, random_state=2021)\n",
    "\n",
    "# data-transformation\n",
    "dim = 784 # 28*28 \n",
    "X_train = X_train.reshape(len(X_train), dim)\n",
    "X_test = X_test.reshape(len(X_test), dim)"
   ]
  },
  {
   "cell_type": "markdown",
   "metadata": {},
   "source": [
    "## ЗАДАНИЕ 1. PCA и объясненная дисперсия\n",
    "* Определите, какое минимальное количество главных компонент необходимо использовать, чтобы доля объясненной дисперсии превышала `0.80 + номер_в_списке % 10 = 0.88` . \n",
    "* Построить график зависимости доли объясненной дисперсии от количества используемых ГК"
   ]
  },
  {
   "cell_type": "code",
   "execution_count": 5,
   "metadata": {},
   "outputs": [],
   "source": [
    "variant_border = 0.88"
   ]
  },
  {
   "cell_type": "code",
   "execution_count": 6,
   "metadata": {},
   "outputs": [
    {
     "name": "stdout",
     "output_type": "stream",
     "text": [
      "Минимальное количество главных компонент, при которых доля объясненной дисперсии превышает 0.88 = 74\n"
     ]
    },
    {
     "data": {
      "text/plain": [
       "[<matplotlib.lines.Line2D at 0x7f044cec7390>]"
      ]
     },
     "execution_count": 6,
     "metadata": {},
     "output_type": "execute_result"
    },
    {
     "data": {
      "image/png": "[encoded data removed]",
      "text/plain": [
       "<Figure size 432x288 with 1 Axes>"
      ]
     },
     "metadata": {
      "needs_background": "light"
     },
     "output_type": "display_data"
    }
   ],
   "source": [
    "# Сделаем PCA\n",
    "pca = PCA(svd_solver='full')\n",
    "modelPCA = pca.fit(X_train)\n",
    "X_train = modelPCA.transform(X_train)\n",
    "# Посчитаем дисперсию\n",
    "\n",
    "explained_variance = np.round(np.cumsum(pca.explained_variance_ratio_),3)\n",
    "explained_variance\n",
    "\n",
    "for i, e_v in enumerate(explained_variance):\n",
    "    if e_v >= variant_border:\n",
    "        print(f'Минимальное количество главных компонент, при которых доля объясненной дисперсии превышает {variant_border} = {i+1}')\n",
    "        break\n",
    "\n",
    "\n",
    "plt.plot(np.arange(dim), explained_variance, ls = '-')\n"
   ]
  },
  {
   "cell_type": "code",
   "execution_count": 7,
   "metadata": {},
   "outputs": [
    {
     "data": {
      "text/plain": [
       "(42000, 784)"
      ]
     },
     "execution_count": 7,
     "metadata": {},
     "output_type": "execute_result"
    }
   ],
   "source": [
    "X_train.shape"
   ]
  },
  {
   "cell_type": "markdown",
   "metadata": {},
   "source": [
    "## ЗАДАНИЕ 2.\n",
    "Введите количество верно классифицированных объектов класса `номер_в_списке % 9 = 18 % 9 = 0` для тестовых данных."
   ]
  },
  {
   "cell_type": "code",
   "execution_count": 8,
   "metadata": {},
   "outputs": [],
   "source": [
    "variant_class = 0"
   ]
  },
  {
   "cell_type": "markdown",
   "metadata": {},
   "source": [
    "Подключаем библиотеку для обучения многоклассового классификатора методом One-vs-All и дерево принятия решений"
   ]
  },
  {
   "cell_type": "code",
   "execution_count": 9,
   "metadata": {},
   "outputs": [],
   "source": [
    "tree = RandomForestClassifier(criterion='gini', min_samples_leaf=10, max_depth=20, n_estimators=10, random_state=2020)\n",
    "clf = OneVsRestClassifier(tree).fit(X_train, y_train)"
   ]
  },
  {
   "cell_type": "code",
   "execution_count": 10,
   "metadata": {},
   "outputs": [],
   "source": [
    "modelPCA = pca.fit(X_test) \n",
    "X_test = modelPCA.transform(X_test)\n",
    "y_pred = clf.predict(X_test)"
   ]
  },
  {
   "cell_type": "markdown",
   "metadata": {},
   "source": [
    "Посчитаем матрицу ошибок:\n",
    "\n",
    "__A confusion matrix__ C is such that $C_{i,j}$ is equal to the number of observations known to be in group i and predicted to be in group j."
   ]
  },
  {
   "cell_type": "code",
   "execution_count": 11,
   "metadata": {},
   "outputs": [
    {
     "name": "stdout",
     "output_type": "stream",
     "text": [
      "Число верно классифицирвоанных объектов класса 0 = 1359\n"
     ]
    }
   ],
   "source": [
    "CM = confusion_matrix(y_test, y_pred)\n",
    "print(f\"Число верно классифицирвоанных объектов класса {variant_class} = {CM[variant_class][variant_class]}\")"
   ]
  },
  {
   "cell_type": "markdown",
   "metadata": {},
   "source": [
    "## ЗАДАНИЕ 3. \n",
    "\n",
    "Введите вероятность отнесения `5` любых изображений из тестового набора к назначенному классу."
   ]
  },
  {
   "cell_type": "code",
   "execution_count": 12,
   "metadata": {},
   "outputs": [
    {
     "data": {
      "text/html": [
       "<div>\n",
       "<style scoped>\n",
       "    .dataframe tbody tr th:only-of-type {\n",
       "        vertical-align: middle;\n",
       "    }\n",
       "\n",
       "    .dataframe tbody tr th {\n",
       "        vertical-align: top;\n",
       "    }\n",
       "\n",
       "    .dataframe thead th {\n",
       "        text-align: right;\n",
       "    }\n",
       "</style>\n",
       "<table border=\"1\" class=\"dataframe\">\n",
       "  <thead>\n",
       "    <tr style=\"text-align: right;\">\n",
       "      <th></th>\n",
       "      <th>real_class</th>\n",
       "      <th>probability, that = 0</th>\n",
       "    </tr>\n",
       "  </thead>\n",
       "  <tbody>\n",
       "    <tr>\n",
       "      <th>8013</th>\n",
       "      <td>8</td>\n",
       "      <td>0.064775</td>\n",
       "    </tr>\n",
       "    <tr>\n",
       "      <th>17801</th>\n",
       "      <td>7</td>\n",
       "      <td>0.192615</td>\n",
       "    </tr>\n",
       "    <tr>\n",
       "      <th>3983</th>\n",
       "      <td>2</td>\n",
       "      <td>0.073466</td>\n",
       "    </tr>\n",
       "    <tr>\n",
       "      <th>9229</th>\n",
       "      <td>9</td>\n",
       "      <td>0.021501</td>\n",
       "    </tr>\n",
       "    <tr>\n",
       "      <th>10774</th>\n",
       "      <td>5</td>\n",
       "      <td>0.076818</td>\n",
       "    </tr>\n",
       "  </tbody>\n",
       "</table>\n",
       "</div>"
      ],
      "text/plain": [
       "       real_class  probability, that = 0\n",
       "8013            8               0.064775\n",
       "17801           7               0.192615\n",
       "3983            2               0.073466\n",
       "9229            9               0.021501\n",
       "10774           5               0.076818"
      ]
     },
     "execution_count": 12,
     "metadata": {},
     "output_type": "execute_result"
    }
   ],
   "source": [
    "#Generate 5 random indexes\n",
    "random_indexes = random.sample(range(0, X_test.shape[0]), 5)\n",
    "\n",
    "# Предсказываем вероятность отнесения к классу по варианту\n",
    "probas_variant_class = clf.predict_proba(X_test[random_indexes])[:,variant_class]\n",
    "\n",
    "# Получаем настоящий класс\n",
    "real_classes = y_pred[random_indexes]\n",
    "\n",
    "pd.DataFrame(list(zip(real_classes, probas_variant_class)), columns=['real_class', f'probability, that = {variant_class}'], index = random_indexes)"
   ]
  },
  {
   "cell_type": "markdown",
   "metadata": {},
   "source": [
    "## ЗАДАЧА 4.\n",
    "Определите Accuracy, Precision, Recall or F1 для обученной модели."
   ]
  },
  {
   "cell_type": "code",
   "execution_count": 13,
   "metadata": {},
   "outputs": [
    {
     "name": "stdout",
     "output_type": "stream",
     "text": [
      "Overall stat:\n",
      "Accuracy: 0.51\n",
      "Precision: 0.51\n",
      "Recall: 0.51\n",
      "F1: 0.51\n",
      "\n",
      "By classes stat:\n"
     ]
    },
    {
     "data": {
      "text/html": [
       "<div>\n",
       "<style scoped>\n",
       "    .dataframe tbody tr th:only-of-type {\n",
       "        vertical-align: middle;\n",
       "    }\n",
       "\n",
       "    .dataframe tbody tr th {\n",
       "        vertical-align: top;\n",
       "    }\n",
       "\n",
       "    .dataframe thead th {\n",
       "        text-align: right;\n",
       "    }\n",
       "</style>\n",
       "<table border=\"1\" class=\"dataframe\">\n",
       "  <thead>\n",
       "    <tr style=\"text-align: right;\">\n",
       "      <th></th>\n",
       "      <th>Accuracy</th>\n",
       "      <th>Precision</th>\n",
       "      <th>Recall</th>\n",
       "      <th>F1</th>\n",
       "    </tr>\n",
       "  </thead>\n",
       "  <tbody>\n",
       "    <tr>\n",
       "      <th>0</th>\n",
       "      <td>0.768</td>\n",
       "      <td>0.691</td>\n",
       "      <td>0.768</td>\n",
       "      <td>0.728</td>\n",
       "    </tr>\n",
       "    <tr>\n",
       "      <th>1</th>\n",
       "      <td>0.831</td>\n",
       "      <td>0.894</td>\n",
       "      <td>0.831</td>\n",
       "      <td>0.861</td>\n",
       "    </tr>\n",
       "    <tr>\n",
       "      <th>2</th>\n",
       "      <td>0.373</td>\n",
       "      <td>0.299</td>\n",
       "      <td>0.373</td>\n",
       "      <td>0.332</td>\n",
       "    </tr>\n",
       "    <tr>\n",
       "      <th>3</th>\n",
       "      <td>0.565</td>\n",
       "      <td>0.555</td>\n",
       "      <td>0.565</td>\n",
       "      <td>0.560</td>\n",
       "    </tr>\n",
       "    <tr>\n",
       "      <th>4</th>\n",
       "      <td>0.557</td>\n",
       "      <td>0.519</td>\n",
       "      <td>0.557</td>\n",
       "      <td>0.537</td>\n",
       "    </tr>\n",
       "    <tr>\n",
       "      <th>5</th>\n",
       "      <td>0.303</td>\n",
       "      <td>0.400</td>\n",
       "      <td>0.303</td>\n",
       "      <td>0.345</td>\n",
       "    </tr>\n",
       "    <tr>\n",
       "      <th>6</th>\n",
       "      <td>0.339</td>\n",
       "      <td>0.328</td>\n",
       "      <td>0.339</td>\n",
       "      <td>0.334</td>\n",
       "    </tr>\n",
       "    <tr>\n",
       "      <th>7</th>\n",
       "      <td>0.688</td>\n",
       "      <td>0.556</td>\n",
       "      <td>0.688</td>\n",
       "      <td>0.615</td>\n",
       "    </tr>\n",
       "    <tr>\n",
       "      <th>8</th>\n",
       "      <td>0.329</td>\n",
       "      <td>0.330</td>\n",
       "      <td>0.329</td>\n",
       "      <td>0.329</td>\n",
       "    </tr>\n",
       "    <tr>\n",
       "      <th>9</th>\n",
       "      <td>0.286</td>\n",
       "      <td>0.486</td>\n",
       "      <td>0.286</td>\n",
       "      <td>0.361</td>\n",
       "    </tr>\n",
       "  </tbody>\n",
       "</table>\n",
       "</div>"
      ],
      "text/plain": [
       "   Accuracy  Precision  Recall     F1\n",
       "0     0.768      0.691   0.768  0.728\n",
       "1     0.831      0.894   0.831  0.861\n",
       "2     0.373      0.299   0.373  0.332\n",
       "3     0.565      0.555   0.565  0.560\n",
       "4     0.557      0.519   0.557  0.537\n",
       "5     0.303      0.400   0.303  0.345\n",
       "6     0.339      0.328   0.339  0.334\n",
       "7     0.688      0.556   0.688  0.615\n",
       "8     0.329      0.330   0.329  0.329\n",
       "9     0.286      0.486   0.286  0.361"
      ]
     },
     "execution_count": 13,
     "metadata": {},
     "output_type": "execute_result"
    }
   ],
   "source": [
    "print('Overall stat:')\n",
    "print(f'Accuracy: {np.round(accuracy_score(y_test, y_pred), 3)}')\n",
    "print(f'Precision: {np.round(precision_score(y_test, y_pred, average=\"micro\"), 3)}')\n",
    "print(f'Recall: {np.round(recall_score(y_test, y_pred, average=\"micro\"), 3)}')\n",
    "print(f'F1: {np.round(f1_score(y_test, y_pred, average=\"micro\"), 3)}')\n",
    "\n",
    "\n",
    "print('\\nBy classes stat:')\n",
    "scores = {\n",
    "    'Accuracy': np.round(CM.diagonal()/CM.sum(axis=1), 3),\n",
    "    'Precision': np.round(precision_score(y_test, y_pred, average=None), 3),\n",
    "    'Recall': np.round(recall_score(y_test, y_pred, average=None), 3),\n",
    "    'F1': np.round(f1_score(y_test, y_pred, average=None), 3)\n",
    "}\n",
    "\n",
    "pd.DataFrame(scores)"
   ]
  },
  {
   "cell_type": "markdown",
   "metadata": {},
   "source": [
    "## ЗАДАЧА 5. ВЫВОДЫ\n",
    "\n",
    "В ходе выполнения лабораторной была исследована применимость PCA и ансамблей для задач мульти-классификации. В конкретном примере использовался датасет рукописных цифр.\n",
    "\n",
    "Текущая модель проявила не очень хорошее поведение на этом датасете, демонстрируя низкие характеристики (редко - важе 0.8). Самый высокий показатель 0 на единице (так как там всегда прослеживается паттерн вертикальной черты, возможно, это берется во внимание (хотя, это не нейросети))."
   ]
  }
 ],
 "metadata": {
  "kernelspec": {
   "display_name": "Python 3",
   "language": "python",
   "name": "python3"
  },
  "language_info": {
   "codemirror_mode": {
    "name": "ipython",
    "version": 3
   },
   "file_extension": ".py",
   "mimetype": "text/x-python",
   "name": "python",
   "nbconvert_exporter": "python",
   "pygments_lexer": "ipython3",
   "version": "3.7.7"
  }
 },
 "nbformat": 4,
 "nbformat_minor": 4
}
